{
 "cells": [
  {
   "cell_type": "markdown",
   "metadata": {},
   "source": [
    "# SWAHILI NEWS CLASSIFICATION"
   ]
  },
  {
   "cell_type": "code",
   "execution_count": 25,
   "metadata": {},
   "outputs": [],
   "source": [
    "# Load the dataset\n",
    "\n",
    "# Will clean the train dataset and test the model with the test dataset\n",
    "\n",
    "import pandas as pd\n",
    "import numpy as np"
   ]
  },
  {
   "cell_type": "code",
   "execution_count": 26,
   "metadata": {},
   "outputs": [
    {
     "data": {
      "text/html": [
       "<div>\n",
       "<style scoped>\n",
       "    .dataframe tbody tr th:only-of-type {\n",
       "        vertical-align: middle;\n",
       "    }\n",
       "\n",
       "    .dataframe tbody tr th {\n",
       "        vertical-align: top;\n",
       "    }\n",
       "\n",
       "    .dataframe thead th {\n",
       "        text-align: right;\n",
       "    }\n",
       "</style>\n",
       "<table border=\"1\" class=\"dataframe\">\n",
       "  <thead>\n",
       "    <tr style=\"text-align: right;\">\n",
       "      <th></th>\n",
       "      <th>id</th>\n",
       "      <th>content</th>\n",
       "      <th>category</th>\n",
       "    </tr>\n",
       "  </thead>\n",
       "  <tbody>\n",
       "    <tr>\n",
       "      <th>0</th>\n",
       "      <td>SW0</td>\n",
       "      <td>SERIKALI imesema haitakuwa tayari kuona amani...</td>\n",
       "      <td>Kitaifa</td>\n",
       "    </tr>\n",
       "    <tr>\n",
       "      <th>1</th>\n",
       "      <td>SW1</td>\n",
       "      <td>Mkuu wa Mkoa wa Tabora, Aggrey Mwanri amesiti...</td>\n",
       "      <td>Biashara</td>\n",
       "    </tr>\n",
       "    <tr>\n",
       "      <th>2</th>\n",
       "      <td>SW10</td>\n",
       "      <td>SERIKALI imetoa miezi sita kwa taasisi zote z...</td>\n",
       "      <td>Kitaifa</td>\n",
       "    </tr>\n",
       "    <tr>\n",
       "      <th>3</th>\n",
       "      <td>SW100</td>\n",
       "      <td>KAMPUNI ya mchezo wa kubahatisha ya M-bet ime...</td>\n",
       "      <td>michezo</td>\n",
       "    </tr>\n",
       "    <tr>\n",
       "      <th>4</th>\n",
       "      <td>SW1000</td>\n",
       "      <td>WATANZANIA wamekumbushwa kusherehekea sikukuu...</td>\n",
       "      <td>Kitaifa</td>\n",
       "    </tr>\n",
       "  </tbody>\n",
       "</table>\n",
       "</div>"
      ],
      "text/plain": [
       "       id                                            content  category\n",
       "0     SW0   SERIKALI imesema haitakuwa tayari kuona amani...   Kitaifa\n",
       "1     SW1   Mkuu wa Mkoa wa Tabora, Aggrey Mwanri amesiti...  Biashara\n",
       "2    SW10   SERIKALI imetoa miezi sita kwa taasisi zote z...   Kitaifa\n",
       "3   SW100   KAMPUNI ya mchezo wa kubahatisha ya M-bet ime...   michezo\n",
       "4  SW1000   WATANZANIA wamekumbushwa kusherehekea sikukuu...   Kitaifa"
      ]
     },
     "execution_count": 26,
     "metadata": {},
     "output_type": "execute_result"
    }
   ],
   "source": [
    "# Load the dataset\n",
    "\n",
    "news = pd.read_csv('datasets/Train.csv')\n",
    "news.head()"
   ]
  },
  {
   "cell_type": "markdown",
   "metadata": {},
   "source": [
    "## Data Cleaning & EDA"
   ]
  },
  {
   "cell_type": "code",
   "execution_count": 27,
   "metadata": {},
   "outputs": [
    {
     "data": {
      "text/html": [
       "<div>\n",
       "<style scoped>\n",
       "    .dataframe tbody tr th:only-of-type {\n",
       "        vertical-align: middle;\n",
       "    }\n",
       "\n",
       "    .dataframe tbody tr th {\n",
       "        vertical-align: top;\n",
       "    }\n",
       "\n",
       "    .dataframe thead th {\n",
       "        text-align: right;\n",
       "    }\n",
       "</style>\n",
       "<table border=\"1\" class=\"dataframe\">\n",
       "  <thead>\n",
       "    <tr style=\"text-align: right;\">\n",
       "      <th></th>\n",
       "      <th>content</th>\n",
       "      <th>category</th>\n",
       "    </tr>\n",
       "  </thead>\n",
       "  <tbody>\n",
       "    <tr>\n",
       "      <th>0</th>\n",
       "      <td>SERIKALI imesema haitakuwa tayari kuona amani...</td>\n",
       "      <td>Kitaifa</td>\n",
       "    </tr>\n",
       "    <tr>\n",
       "      <th>1</th>\n",
       "      <td>Mkuu wa Mkoa wa Tabora, Aggrey Mwanri amesiti...</td>\n",
       "      <td>Biashara</td>\n",
       "    </tr>\n",
       "    <tr>\n",
       "      <th>2</th>\n",
       "      <td>SERIKALI imetoa miezi sita kwa taasisi zote z...</td>\n",
       "      <td>Kitaifa</td>\n",
       "    </tr>\n",
       "    <tr>\n",
       "      <th>3</th>\n",
       "      <td>KAMPUNI ya mchezo wa kubahatisha ya M-bet ime...</td>\n",
       "      <td>michezo</td>\n",
       "    </tr>\n",
       "    <tr>\n",
       "      <th>4</th>\n",
       "      <td>WATANZANIA wamekumbushwa kusherehekea sikukuu...</td>\n",
       "      <td>Kitaifa</td>\n",
       "    </tr>\n",
       "  </tbody>\n",
       "</table>\n",
       "</div>"
      ],
      "text/plain": [
       "                                             content  category\n",
       "0   SERIKALI imesema haitakuwa tayari kuona amani...   Kitaifa\n",
       "1   Mkuu wa Mkoa wa Tabora, Aggrey Mwanri amesiti...  Biashara\n",
       "2   SERIKALI imetoa miezi sita kwa taasisi zote z...   Kitaifa\n",
       "3   KAMPUNI ya mchezo wa kubahatisha ya M-bet ime...   michezo\n",
       "4   WATANZANIA wamekumbushwa kusherehekea sikukuu...   Kitaifa"
      ]
     },
     "execution_count": 27,
     "metadata": {},
     "output_type": "execute_result"
    }
   ],
   "source": [
    "# Will remove the id column\n",
    "\n",
    "news = news.drop(columns=['id'], axis=1)\n",
    "news.head()"
   ]
  },
  {
   "cell_type": "code",
   "execution_count": 28,
   "metadata": {},
   "outputs": [
    {
     "data": {
      "text/plain": [
       "(5151, 2)"
      ]
     },
     "execution_count": 28,
     "metadata": {},
     "output_type": "execute_result"
    }
   ],
   "source": [
    "# Number of rows and columns\n",
    "news.shape"
   ]
  },
  {
   "cell_type": "code",
   "execution_count": 29,
   "metadata": {},
   "outputs": [
    {
     "data": {
      "text/plain": [
       "<AxesSubplot:xlabel='category', ylabel='count'>"
      ]
     },
     "execution_count": 29,
     "metadata": {},
     "output_type": "execute_result"
    },
    {
     "data": {
      "image/png": "[encoded data removed]",
      "text/plain": [
       "<Figure size 864x576 with 1 Axes>"
      ]
     },
     "metadata": {},
     "output_type": "display_data"
    }
   ],
   "source": [
    "# Will vizualize the most common type of news category\n",
    "import seaborn as sns\n",
    "sns.set(rc = {'figure.figsize':(12, 8)})\n",
    "sns.countplot(x = news['category'])"
   ]
  },
  {
   "cell_type": "markdown",
   "metadata": {},
   "source": [
    "Due to lack of data, will only be predicting news articles in 'kitaifa', 'biashara' and 'michezo' categories"
   ]
  },
  {
   "cell_type": "code",
   "execution_count": 30,
   "metadata": {},
   "outputs": [
    {
     "data": {
      "text/html": [
       "<div>\n",
       "<style scoped>\n",
       "    .dataframe tbody tr th:only-of-type {\n",
       "        vertical-align: middle;\n",
       "    }\n",
       "\n",
       "    .dataframe tbody tr th {\n",
       "        vertical-align: top;\n",
       "    }\n",
       "\n",
       "    .dataframe thead th {\n",
       "        text-align: right;\n",
       "    }\n",
       "</style>\n",
       "<table border=\"1\" class=\"dataframe\">\n",
       "  <thead>\n",
       "    <tr style=\"text-align: right;\">\n",
       "      <th></th>\n",
       "      <th>content</th>\n",
       "      <th>category</th>\n",
       "    </tr>\n",
       "  </thead>\n",
       "  <tbody>\n",
       "    <tr>\n",
       "      <th>0</th>\n",
       "      <td>SERIKALI imesema haitakuwa tayari kuona amani...</td>\n",
       "      <td>Kitaifa</td>\n",
       "    </tr>\n",
       "    <tr>\n",
       "      <th>1</th>\n",
       "      <td>Mkuu wa Mkoa wa Tabora, Aggrey Mwanri amesiti...</td>\n",
       "      <td>Biashara</td>\n",
       "    </tr>\n",
       "    <tr>\n",
       "      <th>2</th>\n",
       "      <td>SERIKALI imetoa miezi sita kwa taasisi zote z...</td>\n",
       "      <td>Kitaifa</td>\n",
       "    </tr>\n",
       "    <tr>\n",
       "      <th>3</th>\n",
       "      <td>KAMPUNI ya mchezo wa kubahatisha ya M-bet ime...</td>\n",
       "      <td>michezo</td>\n",
       "    </tr>\n",
       "    <tr>\n",
       "      <th>4</th>\n",
       "      <td>WATANZANIA wamekumbushwa kusherehekea sikukuu...</td>\n",
       "      <td>Kitaifa</td>\n",
       "    </tr>\n",
       "  </tbody>\n",
       "</table>\n",
       "</div>"
      ],
      "text/plain": [
       "                                             content  category\n",
       "0   SERIKALI imesema haitakuwa tayari kuona amani...   Kitaifa\n",
       "1   Mkuu wa Mkoa wa Tabora, Aggrey Mwanri amesiti...  Biashara\n",
       "2   SERIKALI imetoa miezi sita kwa taasisi zote z...   Kitaifa\n",
       "3   KAMPUNI ya mchezo wa kubahatisha ya M-bet ime...   michezo\n",
       "4   WATANZANIA wamekumbushwa kusherehekea sikukuu...   Kitaifa"
      ]
     },
     "execution_count": 30,
     "metadata": {},
     "output_type": "execute_result"
    }
   ],
   "source": [
    "# Drop rows with values of 'kimataifa' and 'burudani'\n",
    "\n",
    "categories = ['Kimataifa', 'Burudani']\n",
    "\n",
    "news = news[news.category.isin(categories) == False]\n",
    "\n",
    "news.head()"
   ]
  },
  {
   "cell_type": "code",
   "execution_count": 31,
   "metadata": {},
   "outputs": [
    {
     "data": {
      "text/plain": [
       "(5080, 2)"
      ]
     },
     "execution_count": 31,
     "metadata": {},
     "output_type": "execute_result"
    }
   ],
   "source": [
    "news.shape"
   ]
  },
  {
   "cell_type": "markdown",
   "metadata": {},
   "source": [
    "about 70 rows of data were dropped, which will be sufficient for our project"
   ]
  },
  {
   "cell_type": "markdown",
   "metadata": {},
   "source": [
    "# NLP Preprocessing"
   ]
  },
  {
   "cell_type": "markdown",
   "metadata": {},
   "source": [
    "#### Steps : \n",
    "\n",
    "- Lowercase\n",
    "- Stopwords (will define them as they are in swahili)\n",
    "- tokenization (splitting the sentenses into individual text)\n",
    "- Removing punctuation marks\n",
    "\n",
    "\n",
    "TBD"
   ]
  },
  {
   "cell_type": "markdown",
   "metadata": {},
   "source": [
    "## 1. Change text to Lowercase"
   ]
  },
  {
   "cell_type": "code",
   "execution_count": 32,
   "metadata": {},
   "outputs": [
    {
     "data": {
      "text/html": [
       "<div>\n",
       "<style scoped>\n",
       "    .dataframe tbody tr th:only-of-type {\n",
       "        vertical-align: middle;\n",
       "    }\n",
       "\n",
       "    .dataframe tbody tr th {\n",
       "        vertical-align: top;\n",
       "    }\n",
       "\n",
       "    .dataframe thead th {\n",
       "        text-align: right;\n",
       "    }\n",
       "</style>\n",
       "<table border=\"1\" class=\"dataframe\">\n",
       "  <thead>\n",
       "    <tr style=\"text-align: right;\">\n",
       "      <th></th>\n",
       "      <th>content</th>\n",
       "      <th>category</th>\n",
       "      <th>new</th>\n",
       "    </tr>\n",
       "  </thead>\n",
       "  <tbody>\n",
       "    <tr>\n",
       "      <th>0</th>\n",
       "      <td>SERIKALI imesema haitakuwa tayari kuona amani...</td>\n",
       "      <td>Kitaifa</td>\n",
       "      <td>serikali imesema haitakuwa tayari kuona amani...</td>\n",
       "    </tr>\n",
       "    <tr>\n",
       "      <th>1</th>\n",
       "      <td>Mkuu wa Mkoa wa Tabora, Aggrey Mwanri amesiti...</td>\n",
       "      <td>Biashara</td>\n",
       "      <td>mkuu wa mkoa wa tabora, aggrey mwanri amesiti...</td>\n",
       "    </tr>\n",
       "    <tr>\n",
       "      <th>2</th>\n",
       "      <td>SERIKALI imetoa miezi sita kwa taasisi zote z...</td>\n",
       "      <td>Kitaifa</td>\n",
       "      <td>serikali imetoa miezi sita kwa taasisi zote z...</td>\n",
       "    </tr>\n",
       "    <tr>\n",
       "      <th>3</th>\n",
       "      <td>KAMPUNI ya mchezo wa kubahatisha ya M-bet ime...</td>\n",
       "      <td>michezo</td>\n",
       "      <td>kampuni ya mchezo wa kubahatisha ya m-bet ime...</td>\n",
       "    </tr>\n",
       "    <tr>\n",
       "      <th>4</th>\n",
       "      <td>WATANZANIA wamekumbushwa kusherehekea sikukuu...</td>\n",
       "      <td>Kitaifa</td>\n",
       "      <td>watanzania wamekumbushwa kusherehekea sikukuu...</td>\n",
       "    </tr>\n",
       "  </tbody>\n",
       "</table>\n",
       "</div>"
      ],
      "text/plain": [
       "                                             content  category  \\\n",
       "0   SERIKALI imesema haitakuwa tayari kuona amani...   Kitaifa   \n",
       "1   Mkuu wa Mkoa wa Tabora, Aggrey Mwanri amesiti...  Biashara   \n",
       "2   SERIKALI imetoa miezi sita kwa taasisi zote z...   Kitaifa   \n",
       "3   KAMPUNI ya mchezo wa kubahatisha ya M-bet ime...   michezo   \n",
       "4   WATANZANIA wamekumbushwa kusherehekea sikukuu...   Kitaifa   \n",
       "\n",
       "                                                 new  \n",
       "0   serikali imesema haitakuwa tayari kuona amani...  \n",
       "1   mkuu wa mkoa wa tabora, aggrey mwanri amesiti...  \n",
       "2   serikali imetoa miezi sita kwa taasisi zote z...  \n",
       "3   kampuni ya mchezo wa kubahatisha ya m-bet ime...  \n",
       "4   watanzania wamekumbushwa kusherehekea sikukuu...  "
      ]
     },
     "execution_count": 32,
     "metadata": {},
     "output_type": "execute_result"
    }
   ],
   "source": [
    "news['new'] = news['content'].str.lower()\n",
    "news.head()"
   ]
  },
  {
   "cell_type": "markdown",
   "metadata": {},
   "source": [
    "## 2. Removing stopwords"
   ]
  },
  {
   "cell_type": "code",
   "execution_count": 33,
   "metadata": {},
   "outputs": [
    {
     "data": {
      "text/plain": [
       "['akasema',\n",
       " 'alikuwa',\n",
       " 'alisema',\n",
       " 'baada',\n",
       " 'basi',\n",
       " 'bila',\n",
       " 'cha',\n",
       " 'chini',\n",
       " 'hadi',\n",
       " 'hapo',\n",
       " 'hata',\n",
       " 'hivyo',\n",
       " 'hiyo',\n",
       " 'huku',\n",
       " 'huo',\n",
       " 'ili',\n",
       " 'ilikuwa',\n",
       " 'juu',\n",
       " 'kama',\n",
       " 'karibu',\n",
       " 'katika',\n",
       " 'kila ',\n",
       " 'kima',\n",
       " 'kisha',\n",
       " 'kubwa',\n",
       " 'kutoka',\n",
       " 'kuwa',\n",
       " 'kwa',\n",
       " 'kwamba',\n",
       " 'kwenda',\n",
       " 'kwenye',\n",
       " 'la',\n",
       " 'lakini',\n",
       " 'mara',\n",
       " 'mdogo',\n",
       " 'mimi',\n",
       " 'mkubwa',\n",
       " 'mmoja',\n",
       " 'moja',\n",
       " 'muda',\n",
       " 'mwenye',\n",
       " 'na',\n",
       " 'naye',\n",
       " 'ndani',\n",
       " 'ng',\n",
       " 'ni',\n",
       " 'nini',\n",
       " 'pamoja',\n",
       " 'pia',\n",
       " 'sana',\n",
       " 'sasa',\n",
       " 'sauti',\n",
       " 'tafadhali',\n",
       " 'tena',\n",
       " 'tu',\n",
       " 'ule',\n",
       " 'vile',\n",
       " 'wa',\n",
       " 'wakati',\n",
       " 'wake',\n",
       " 'walikuwa',\n",
       " 'wao',\n",
       " 'watu',\n",
       " 'wengine',\n",
       " 'wote',\n",
       " 'ya',\n",
       " 'yake',\n",
       " 'yangu',\n",
       " 'yao',\n",
       " 'yeye',\n",
       " 'yule',\n",
       " 'za',\n",
       " 'zaidi',\n",
       " 'zake']"
      ]
     },
     "execution_count": 33,
     "metadata": {},
     "output_type": "execute_result"
    }
   ],
   "source": [
    "stopwords_swahili = ['akasema', 'alikuwa', 'alisema', 'baada', 'basi','bila', 'cha', 'chini', 'hadi', 'hapo', 'hata','hivyo', 'hiyo', 'huku', 'huo', 'ili',\n",
    "'ilikuwa', 'juu', 'kama', 'karibu', 'katika', 'kila ', 'kima', 'kisha', 'kubwa', 'kutoka', 'kuwa', 'kwa', 'kwamba', 'kwenda', 'kwenye', 'la', 'lakini', 'mara',\n",
    "'mdogo', 'mimi', 'mkubwa', 'mmoja', 'moja', 'muda', 'mwenye', 'na', 'naye', 'ndani', 'ng', 'ni', 'nini', 'pamoja', 'pia', 'sana', 'sasa', 'sauti', 'tafadhali', 'tena',\n",
    "'tu', 'ule', 'vile', 'wa', 'wakati', 'wake', 'walikuwa', 'wao', 'watu', 'wengine', 'wote', 'ya', 'yake', 'yangu', 'yao', 'yeye', 'yule', 'za', 'zaidi', 'zake']\n",
    "stopwords_swahili"
   ]
  },
  {
   "cell_type": "code",
   "execution_count": 34,
   "metadata": {},
   "outputs": [],
   "source": [
    "# Every word in that array should be removed in the column\n",
    "\n",
    "# Will create a function that iterates through the text, removing present stopwords\n",
    "\n",
    "def swahili_stops(text):\n",
    "    no_stops = \" \".join([word for word in text.split() if word not in stopwords_swahili])\n",
    "    return no_stops"
   ]
  },
  {
   "cell_type": "code",
   "execution_count": 35,
   "metadata": {},
   "outputs": [
    {
     "data": {
      "text/plain": [
       "'mtu fulani amekaa kando kiti meza'"
      ]
     },
     "execution_count": 35,
     "metadata": {},
     "output_type": "execute_result"
    }
   ],
   "source": [
    "# Test\n",
    "eg = 'ule mtu fulani amekaa kando ya kiti juu ya meza'\n",
    "\n",
    "swahili_stops(eg)"
   ]
  },
  {
   "cell_type": "code",
   "execution_count": 36,
   "metadata": {},
   "outputs": [
    {
     "data": {
      "text/plain": [
       "0       serikali imesema haitakuwa tayari kuona amani ...\n",
       "1       mkuu mkoa tabora, aggrey mwanri amesitisha lik...\n",
       "2       serikali imetoa miezi sita taasisi zote umma a...\n",
       "3       kampuni mchezo kubahatisha m-bet imeingia maku...\n",
       "4       watanzania wamekumbushwa kusherehekea sikukuu ...\n",
       "                              ...                        \n",
       "5146    rais john magufuli ameendelea kung’ara siasa k...\n",
       "5147    kampeni inayohimiza watafi ti kuandika upya hi...\n",
       "5148    matukio mapya malaria kila 1,000 jamii, yamepu...\n",
       "5149    imeelezwa hakuna sheria yoyote inayokataza taa...\n",
       "5150    akizungumza kutiwa saini makubaliano hayo jana...\n",
       "Name: new, Length: 5080, dtype: object"
      ]
     },
     "execution_count": 36,
     "metadata": {},
     "output_type": "execute_result"
    }
   ],
   "source": [
    "news['new'] = news['new'].apply(lambda text : swahili_stops(text))\n",
    "news['new']"
   ]
  },
  {
   "cell_type": "markdown",
   "metadata": {},
   "source": [
    "## 3. Tokenization"
   ]
  },
  {
   "cell_type": "code",
   "execution_count": 37,
   "metadata": {},
   "outputs": [],
   "source": [
    "# Will import the natural language library which will help in tokenization\n",
    "import nltk\n",
    "\n",
    "tokenizer = nltk.word_tokenize"
   ]
  },
  {
   "cell_type": "code",
   "execution_count": 38,
   "metadata": {},
   "outputs": [
    {
     "data": {
      "text/html": [
       "<div>\n",
       "<style scoped>\n",
       "    .dataframe tbody tr th:only-of-type {\n",
       "        vertical-align: middle;\n",
       "    }\n",
       "\n",
       "    .dataframe tbody tr th {\n",
       "        vertical-align: top;\n",
       "    }\n",
       "\n",
       "    .dataframe thead th {\n",
       "        text-align: right;\n",
       "    }\n",
       "</style>\n",
       "<table border=\"1\" class=\"dataframe\">\n",
       "  <thead>\n",
       "    <tr style=\"text-align: right;\">\n",
       "      <th></th>\n",
       "      <th>content</th>\n",
       "      <th>category</th>\n",
       "      <th>new</th>\n",
       "      <th>tokenized</th>\n",
       "    </tr>\n",
       "  </thead>\n",
       "  <tbody>\n",
       "    <tr>\n",
       "      <th>0</th>\n",
       "      <td>SERIKALI imesema haitakuwa tayari kuona amani...</td>\n",
       "      <td>Kitaifa</td>\n",
       "      <td>serikali imesema haitakuwa tayari kuona amani ...</td>\n",
       "      <td>[serikali, imesema, haitakuwa, tayari, kuona, ...</td>\n",
       "    </tr>\n",
       "    <tr>\n",
       "      <th>1</th>\n",
       "      <td>Mkuu wa Mkoa wa Tabora, Aggrey Mwanri amesiti...</td>\n",
       "      <td>Biashara</td>\n",
       "      <td>mkuu mkoa tabora, aggrey mwanri amesitisha lik...</td>\n",
       "      <td>[mkuu, mkoa, tabora, ,, aggrey, mwanri, amesit...</td>\n",
       "    </tr>\n",
       "    <tr>\n",
       "      <th>2</th>\n",
       "      <td>SERIKALI imetoa miezi sita kwa taasisi zote z...</td>\n",
       "      <td>Kitaifa</td>\n",
       "      <td>serikali imetoa miezi sita taasisi zote umma a...</td>\n",
       "      <td>[serikali, imetoa, miezi, sita, taasisi, zote,...</td>\n",
       "    </tr>\n",
       "    <tr>\n",
       "      <th>3</th>\n",
       "      <td>KAMPUNI ya mchezo wa kubahatisha ya M-bet ime...</td>\n",
       "      <td>michezo</td>\n",
       "      <td>kampuni mchezo kubahatisha m-bet imeingia maku...</td>\n",
       "      <td>[kampuni, mchezo, kubahatisha, m-bet, imeingia...</td>\n",
       "    </tr>\n",
       "    <tr>\n",
       "      <th>4</th>\n",
       "      <td>WATANZANIA wamekumbushwa kusherehekea sikukuu...</td>\n",
       "      <td>Kitaifa</td>\n",
       "      <td>watanzania wamekumbushwa kusherehekea sikukuu ...</td>\n",
       "      <td>[watanzania, wamekumbushwa, kusherehekea, siku...</td>\n",
       "    </tr>\n",
       "  </tbody>\n",
       "</table>\n",
       "</div>"
      ],
      "text/plain": [
       "                                             content  category  \\\n",
       "0   SERIKALI imesema haitakuwa tayari kuona amani...   Kitaifa   \n",
       "1   Mkuu wa Mkoa wa Tabora, Aggrey Mwanri amesiti...  Biashara   \n",
       "2   SERIKALI imetoa miezi sita kwa taasisi zote z...   Kitaifa   \n",
       "3   KAMPUNI ya mchezo wa kubahatisha ya M-bet ime...   michezo   \n",
       "4   WATANZANIA wamekumbushwa kusherehekea sikukuu...   Kitaifa   \n",
       "\n",
       "                                                 new  \\\n",
       "0  serikali imesema haitakuwa tayari kuona amani ...   \n",
       "1  mkuu mkoa tabora, aggrey mwanri amesitisha lik...   \n",
       "2  serikali imetoa miezi sita taasisi zote umma a...   \n",
       "3  kampuni mchezo kubahatisha m-bet imeingia maku...   \n",
       "4  watanzania wamekumbushwa kusherehekea sikukuu ...   \n",
       "\n",
       "                                           tokenized  \n",
       "0  [serikali, imesema, haitakuwa, tayari, kuona, ...  \n",
       "1  [mkuu, mkoa, tabora, ,, aggrey, mwanri, amesit...  \n",
       "2  [serikali, imetoa, miezi, sita, taasisi, zote,...  \n",
       "3  [kampuni, mchezo, kubahatisha, m-bet, imeingia...  \n",
       "4  [watanzania, wamekumbushwa, kusherehekea, siku...  "
      ]
     },
     "execution_count": 38,
     "metadata": {},
     "output_type": "execute_result"
    }
   ],
   "source": [
    "news['tokenized'] = news['new'].apply(tokenizer)\n",
    "news.head()"
   ]
  },
  {
   "cell_type": "markdown",
   "metadata": {},
   "source": [
    "Before padding, will need to encode the categories"
   ]
  },
  {
   "cell_type": "code",
   "execution_count": 39,
   "metadata": {},
   "outputs": [
    {
     "data": {
      "text/html": [
       "<div>\n",
       "<style scoped>\n",
       "    .dataframe tbody tr th:only-of-type {\n",
       "        vertical-align: middle;\n",
       "    }\n",
       "\n",
       "    .dataframe tbody tr th {\n",
       "        vertical-align: top;\n",
       "    }\n",
       "\n",
       "    .dataframe thead th {\n",
       "        text-align: right;\n",
       "    }\n",
       "</style>\n",
       "<table border=\"1\" class=\"dataframe\">\n",
       "  <thead>\n",
       "    <tr style=\"text-align: right;\">\n",
       "      <th></th>\n",
       "      <th>content</th>\n",
       "      <th>new</th>\n",
       "      <th>tokenized</th>\n",
       "      <th>category_Biashara</th>\n",
       "      <th>category_Kitaifa</th>\n",
       "      <th>category_michezo</th>\n",
       "    </tr>\n",
       "  </thead>\n",
       "  <tbody>\n",
       "    <tr>\n",
       "      <th>0</th>\n",
       "      <td>SERIKALI imesema haitakuwa tayari kuona amani...</td>\n",
       "      <td>serikali imesema haitakuwa tayari kuona amani ...</td>\n",
       "      <td>[serikali, imesema, haitakuwa, tayari, kuona, ...</td>\n",
       "      <td>0</td>\n",
       "      <td>1</td>\n",
       "      <td>0</td>\n",
       "    </tr>\n",
       "    <tr>\n",
       "      <th>1</th>\n",
       "      <td>Mkuu wa Mkoa wa Tabora, Aggrey Mwanri amesiti...</td>\n",
       "      <td>mkuu mkoa tabora, aggrey mwanri amesitisha lik...</td>\n",
       "      <td>[mkuu, mkoa, tabora, ,, aggrey, mwanri, amesit...</td>\n",
       "      <td>1</td>\n",
       "      <td>0</td>\n",
       "      <td>0</td>\n",
       "    </tr>\n",
       "    <tr>\n",
       "      <th>2</th>\n",
       "      <td>SERIKALI imetoa miezi sita kwa taasisi zote z...</td>\n",
       "      <td>serikali imetoa miezi sita taasisi zote umma a...</td>\n",
       "      <td>[serikali, imetoa, miezi, sita, taasisi, zote,...</td>\n",
       "      <td>0</td>\n",
       "      <td>1</td>\n",
       "      <td>0</td>\n",
       "    </tr>\n",
       "    <tr>\n",
       "      <th>3</th>\n",
       "      <td>KAMPUNI ya mchezo wa kubahatisha ya M-bet ime...</td>\n",
       "      <td>kampuni mchezo kubahatisha m-bet imeingia maku...</td>\n",
       "      <td>[kampuni, mchezo, kubahatisha, m-bet, imeingia...</td>\n",
       "      <td>0</td>\n",
       "      <td>0</td>\n",
       "      <td>1</td>\n",
       "    </tr>\n",
       "    <tr>\n",
       "      <th>4</th>\n",
       "      <td>WATANZANIA wamekumbushwa kusherehekea sikukuu...</td>\n",
       "      <td>watanzania wamekumbushwa kusherehekea sikukuu ...</td>\n",
       "      <td>[watanzania, wamekumbushwa, kusherehekea, siku...</td>\n",
       "      <td>0</td>\n",
       "      <td>1</td>\n",
       "      <td>0</td>\n",
       "    </tr>\n",
       "    <tr>\n",
       "      <th>...</th>\n",
       "      <td>...</td>\n",
       "      <td>...</td>\n",
       "      <td>...</td>\n",
       "      <td>...</td>\n",
       "      <td>...</td>\n",
       "      <td>...</td>\n",
       "    </tr>\n",
       "    <tr>\n",
       "      <th>5146</th>\n",
       "      <td>RAIS John Magufuli ameendelea kung’ara katika...</td>\n",
       "      <td>rais john magufuli ameendelea kung’ara siasa k...</td>\n",
       "      <td>[rais, john, magufuli, ameendelea, kung, ’, ar...</td>\n",
       "      <td>0</td>\n",
       "      <td>1</td>\n",
       "      <td>0</td>\n",
       "    </tr>\n",
       "    <tr>\n",
       "      <th>5147</th>\n",
       "      <td>KAMPENI inayohimiza watafi ti kuandika upya h...</td>\n",
       "      <td>kampeni inayohimiza watafi ti kuandika upya hi...</td>\n",
       "      <td>[kampeni, inayohimiza, watafi, ti, kuandika, u...</td>\n",
       "      <td>0</td>\n",
       "      <td>1</td>\n",
       "      <td>0</td>\n",
       "    </tr>\n",
       "    <tr>\n",
       "      <th>5148</th>\n",
       "      <td>MATUKIO mapya ya malaria kwa kila watu 1,000 ...</td>\n",
       "      <td>matukio mapya malaria kila 1,000 jamii, yamepu...</td>\n",
       "      <td>[matukio, mapya, malaria, kila, 1,000, jamii, ...</td>\n",
       "      <td>0</td>\n",
       "      <td>1</td>\n",
       "      <td>0</td>\n",
       "    </tr>\n",
       "    <tr>\n",
       "      <th>5149</th>\n",
       "      <td>IMEELEZWA kuwa hakuna sheria yoyote inayokata...</td>\n",
       "      <td>imeelezwa hakuna sheria yoyote inayokataza taa...</td>\n",
       "      <td>[imeelezwa, hakuna, sheria, yoyote, inayokataz...</td>\n",
       "      <td>0</td>\n",
       "      <td>1</td>\n",
       "      <td>0</td>\n",
       "    </tr>\n",
       "    <tr>\n",
       "      <th>5150</th>\n",
       "      <td>Akizungumza mara baada ya kutiwa saini kwa ma...</td>\n",
       "      <td>akizungumza kutiwa saini makubaliano hayo jana...</td>\n",
       "      <td>[akizungumza, kutiwa, saini, makubaliano, hayo...</td>\n",
       "      <td>1</td>\n",
       "      <td>0</td>\n",
       "      <td>0</td>\n",
       "    </tr>\n",
       "  </tbody>\n",
       "</table>\n",
       "<p>5080 rows × 6 columns</p>\n",
       "</div>"
      ],
      "text/plain": [
       "                                                content  \\\n",
       "0      SERIKALI imesema haitakuwa tayari kuona amani...   \n",
       "1      Mkuu wa Mkoa wa Tabora, Aggrey Mwanri amesiti...   \n",
       "2      SERIKALI imetoa miezi sita kwa taasisi zote z...   \n",
       "3      KAMPUNI ya mchezo wa kubahatisha ya M-bet ime...   \n",
       "4      WATANZANIA wamekumbushwa kusherehekea sikukuu...   \n",
       "...                                                 ...   \n",
       "5146   RAIS John Magufuli ameendelea kung’ara katika...   \n",
       "5147   KAMPENI inayohimiza watafi ti kuandika upya h...   \n",
       "5148   MATUKIO mapya ya malaria kwa kila watu 1,000 ...   \n",
       "5149   IMEELEZWA kuwa hakuna sheria yoyote inayokata...   \n",
       "5150   Akizungumza mara baada ya kutiwa saini kwa ma...   \n",
       "\n",
       "                                                    new  \\\n",
       "0     serikali imesema haitakuwa tayari kuona amani ...   \n",
       "1     mkuu mkoa tabora, aggrey mwanri amesitisha lik...   \n",
       "2     serikali imetoa miezi sita taasisi zote umma a...   \n",
       "3     kampuni mchezo kubahatisha m-bet imeingia maku...   \n",
       "4     watanzania wamekumbushwa kusherehekea sikukuu ...   \n",
       "...                                                 ...   \n",
       "5146  rais john magufuli ameendelea kung’ara siasa k...   \n",
       "5147  kampeni inayohimiza watafi ti kuandika upya hi...   \n",
       "5148  matukio mapya malaria kila 1,000 jamii, yamepu...   \n",
       "5149  imeelezwa hakuna sheria yoyote inayokataza taa...   \n",
       "5150  akizungumza kutiwa saini makubaliano hayo jana...   \n",
       "\n",
       "                                              tokenized  category_Biashara  \\\n",
       "0     [serikali, imesema, haitakuwa, tayari, kuona, ...                  0   \n",
       "1     [mkuu, mkoa, tabora, ,, aggrey, mwanri, amesit...                  1   \n",
       "2     [serikali, imetoa, miezi, sita, taasisi, zote,...                  0   \n",
       "3     [kampuni, mchezo, kubahatisha, m-bet, imeingia...                  0   \n",
       "4     [watanzania, wamekumbushwa, kusherehekea, siku...                  0   \n",
       "...                                                 ...                ...   \n",
       "5146  [rais, john, magufuli, ameendelea, kung, ’, ar...                  0   \n",
       "5147  [kampeni, inayohimiza, watafi, ti, kuandika, u...                  0   \n",
       "5148  [matukio, mapya, malaria, kila, 1,000, jamii, ...                  0   \n",
       "5149  [imeelezwa, hakuna, sheria, yoyote, inayokataz...                  0   \n",
       "5150  [akizungumza, kutiwa, saini, makubaliano, hayo...                  1   \n",
       "\n",
       "      category_Kitaifa  category_michezo  \n",
       "0                    1                 0  \n",
       "1                    0                 0  \n",
       "2                    1                 0  \n",
       "3                    0                 1  \n",
       "4                    1                 0  \n",
       "...                ...               ...  \n",
       "5146                 1                 0  \n",
       "5147                 1                 0  \n",
       "5148                 1                 0  \n",
       "5149                 1                 0  \n",
       "5150                 0                 0  \n",
       "\n",
       "[5080 rows x 6 columns]"
      ]
     },
     "execution_count": 39,
     "metadata": {},
     "output_type": "execute_result"
    }
   ],
   "source": [
    "# Hot encode the category column\n",
    "news = pd.get_dummies(news, columns=['category'])\n",
    "news"
   ]
  },
  {
   "cell_type": "code",
   "execution_count": 40,
   "metadata": {},
   "outputs": [],
   "source": [
    "# Split into X and y\n",
    "X = news['new']\n",
    "y = news[['category_Biashara', 'category_Kitaifa', 'category_michezo']]"
   ]
  },
  {
   "cell_type": "code",
   "execution_count": 41,
   "metadata": {},
   "outputs": [
    {
     "data": {
      "text/html": [
       "<div>\n",
       "<style scoped>\n",
       "    .dataframe tbody tr th:only-of-type {\n",
       "        vertical-align: middle;\n",
       "    }\n",
       "\n",
       "    .dataframe tbody tr th {\n",
       "        vertical-align: top;\n",
       "    }\n",
       "\n",
       "    .dataframe thead th {\n",
       "        text-align: right;\n",
       "    }\n",
       "</style>\n",
       "<table border=\"1\" class=\"dataframe\">\n",
       "  <thead>\n",
       "    <tr style=\"text-align: right;\">\n",
       "      <th></th>\n",
       "      <th>category_Biashara</th>\n",
       "      <th>category_Kitaifa</th>\n",
       "      <th>category_michezo</th>\n",
       "    </tr>\n",
       "  </thead>\n",
       "  <tbody>\n",
       "    <tr>\n",
       "      <th>0</th>\n",
       "      <td>0</td>\n",
       "      <td>1</td>\n",
       "      <td>0</td>\n",
       "    </tr>\n",
       "    <tr>\n",
       "      <th>1</th>\n",
       "      <td>1</td>\n",
       "      <td>0</td>\n",
       "      <td>0</td>\n",
       "    </tr>\n",
       "    <tr>\n",
       "      <th>2</th>\n",
       "      <td>0</td>\n",
       "      <td>1</td>\n",
       "      <td>0</td>\n",
       "    </tr>\n",
       "    <tr>\n",
       "      <th>3</th>\n",
       "      <td>0</td>\n",
       "      <td>0</td>\n",
       "      <td>1</td>\n",
       "    </tr>\n",
       "    <tr>\n",
       "      <th>4</th>\n",
       "      <td>0</td>\n",
       "      <td>1</td>\n",
       "      <td>0</td>\n",
       "    </tr>\n",
       "    <tr>\n",
       "      <th>...</th>\n",
       "      <td>...</td>\n",
       "      <td>...</td>\n",
       "      <td>...</td>\n",
       "    </tr>\n",
       "    <tr>\n",
       "      <th>5146</th>\n",
       "      <td>0</td>\n",
       "      <td>1</td>\n",
       "      <td>0</td>\n",
       "    </tr>\n",
       "    <tr>\n",
       "      <th>5147</th>\n",
       "      <td>0</td>\n",
       "      <td>1</td>\n",
       "      <td>0</td>\n",
       "    </tr>\n",
       "    <tr>\n",
       "      <th>5148</th>\n",
       "      <td>0</td>\n",
       "      <td>1</td>\n",
       "      <td>0</td>\n",
       "    </tr>\n",
       "    <tr>\n",
       "      <th>5149</th>\n",
       "      <td>0</td>\n",
       "      <td>1</td>\n",
       "      <td>0</td>\n",
       "    </tr>\n",
       "    <tr>\n",
       "      <th>5150</th>\n",
       "      <td>1</td>\n",
       "      <td>0</td>\n",
       "      <td>0</td>\n",
       "    </tr>\n",
       "  </tbody>\n",
       "</table>\n",
       "<p>5080 rows × 3 columns</p>\n",
       "</div>"
      ],
      "text/plain": [
       "      category_Biashara  category_Kitaifa  category_michezo\n",
       "0                     0                 1                 0\n",
       "1                     1                 0                 0\n",
       "2                     0                 1                 0\n",
       "3                     0                 0                 1\n",
       "4                     0                 1                 0\n",
       "...                 ...               ...               ...\n",
       "5146                  0                 1                 0\n",
       "5147                  0                 1                 0\n",
       "5148                  0                 1                 0\n",
       "5149                  0                 1                 0\n",
       "5150                  1                 0                 0\n",
       "\n",
       "[5080 rows x 3 columns]"
      ]
     },
     "execution_count": 41,
     "metadata": {},
     "output_type": "execute_result"
    }
   ],
   "source": [
    "y"
   ]
  },
  {
   "cell_type": "code",
   "execution_count": 42,
   "metadata": {},
   "outputs": [
    {
     "data": {
      "text/plain": [
       "0       serikali imesema haitakuwa tayari kuona amani ...\n",
       "1       mkuu mkoa tabora, aggrey mwanri amesitisha lik...\n",
       "2       serikali imetoa miezi sita taasisi zote umma a...\n",
       "3       kampuni mchezo kubahatisha m-bet imeingia maku...\n",
       "4       watanzania wamekumbushwa kusherehekea sikukuu ...\n",
       "                              ...                        \n",
       "5146    rais john magufuli ameendelea kung’ara siasa k...\n",
       "5147    kampeni inayohimiza watafi ti kuandika upya hi...\n",
       "5148    matukio mapya malaria kila 1,000 jamii, yamepu...\n",
       "5149    imeelezwa hakuna sheria yoyote inayokataza taa...\n",
       "5150    akizungumza kutiwa saini makubaliano hayo jana...\n",
       "Name: new, Length: 5080, dtype: object"
      ]
     },
     "execution_count": 42,
     "metadata": {},
     "output_type": "execute_result"
    }
   ],
   "source": [
    "X"
   ]
  },
  {
   "cell_type": "code",
   "execution_count": 45,
   "metadata": {},
   "outputs": [],
   "source": [
    "# Tokenizing the data in X\n",
    "from tensorflow.keras.preprocessing.text import Tokenizer"
   ]
  },
  {
   "cell_type": "code",
   "execution_count": 50,
   "metadata": {},
   "outputs": [],
   "source": [
    "from tensorflow.keras.preprocessing.sequence import pad_sequences"
   ]
  },
  {
   "cell_type": "code",
   "execution_count": 47,
   "metadata": {},
   "outputs": [],
   "source": [
    "tokenize = Tokenizer(num_words = 3000)\n",
    "tokenize.fit_on_texts(X)\n",
    "\n",
    "sequence = tokenize.texts_to_sequences(X)"
   ]
  },
  {
   "cell_type": "code",
   "execution_count": 52,
   "metadata": {},
   "outputs": [
    {
     "data": {
      "text/plain": [
       "array([[ 213,   55,  276, ...,  543, 1730,  546],\n",
       "       [  42,   37,   81, ...,  116,  104,  394],\n",
       "       [1374,   89,  196, ...,  197,   61,   33],\n",
       "       ...,\n",
       "       [ 681,   27,    5, ...,  118,  188, 2840],\n",
       "       [ 746,  397, 1140, ...,    4,  259, 2893],\n",
       "       [ 198,  170,   11, ...,   10,   21,  169]], dtype=int32)"
      ]
     },
     "execution_count": 52,
     "metadata": {},
     "output_type": "execute_result"
    }
   ],
   "source": [
    "# Padding\n",
    "padded_text = pad_sequences(sequence, maxlen = 100)\n",
    "padded_text"
   ]
  },
  {
   "cell_type": "code",
   "execution_count": 53,
   "metadata": {},
   "outputs": [
    {
     "data": {
      "text/plain": [
       "5080"
      ]
     },
     "execution_count": 53,
     "metadata": {},
     "output_type": "execute_result"
    }
   ],
   "source": [
    "len(padded_text)"
   ]
  },
  {
   "cell_type": "markdown",
   "metadata": {},
   "source": [
    "# Modeling using Tensor Flow"
   ]
  }
 ],
 "metadata": {
  "interpreter": {
   "hash": "769919d178be46a90f10bb6235c6ce087a03a24ee47c90f3a0e9832b171232d7"
  },
  "kernelspec": {
   "display_name": "Python 3.8.8 ('base')",
   "language": "python",
   "name": "python3"
  },
  "language_info": {
   "codemirror_mode": {
    "name": "ipython",
    "version": 3
   },
   "file_extension": ".py",
   "mimetype": "text/x-python",
   "name": "python",
   "nbconvert_exporter": "python",
   "pygments_lexer": "ipython3",
   "version": "3.8.8"
  },
  "orig_nbformat": 4
 },
 "nbformat": 4,
 "nbformat_minor": 2
}
